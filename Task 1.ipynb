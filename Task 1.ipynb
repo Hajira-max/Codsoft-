{
  "nbformat": 4,
  "nbformat_minor": 0,
  "metadata": {
    "colab": {
      "provenance": [],
      "authorship_tag": "ABX9TyP59I+u10c1qY+bXPkSyKSx",
      "include_colab_link": true
    },
    "kernelspec": {
      "name": "python3",
      "display_name": "Python 3"
    },
    "language_info": {
      "name": "python"
    }
  },
  "cells": [
    {
      "cell_type": "markdown",
      "metadata": {
        "id": "view-in-github",
        "colab_type": "text"
      },
      "source": [
        "<a href=\"https://colab.research.google.com/github/Hajira-max/Codsoft-/blob/main/Untitled8.ipynb\" target=\"_parent\"><img src=\"https://colab.research.google.com/assets/colab-badge.svg\" alt=\"Open In Colab\"/></a>"
      ]
    },
    {
      "cell_type": "code",
      "execution_count": 19,
      "metadata": {
        "colab": {
          "base_uri": "https://localhost:8080/"
        },
        "id": "M3OpQwd9F7jK",
        "outputId": "c0ef75e8-79e7-4198-c61e-842bfc9a35da"
      },
      "outputs": [
        {
          "output_type": "stream",
          "name": "stdout",
          "text": [
            "Chatbot: Hi, I'm your assistant. Type 'bye' to quit.\n",
            "You: Hi \n",
            "Chatbot: Hello there! How can I help you?\n",
            "You: How are you \n",
            "Chatbot: I'm fine (since I'm a bot 😅). What about you?\n",
            "You: I am fine \n",
            "Chatbot: Good to hear that!\n",
            "You: Help me \n",
            "Chatbot: Sure, tell me what you need help with.\n",
            "You: Tell me about python \n",
            "Chatbot: Python is a high-level, general-purpose and user-friendly programming language.\n",
            "You: Is it hard to use\n",
            "Chatbot: Not at all. Even beginners can do projects using Python.\n",
            "You: Thank you 😊 \n",
            "Your are welcome \n",
            "You: Bye\n",
            "Chatbot: Bye! Talk to you later 👋\n",
            "Chatbot: Hi, I'm your assistant. Type 'bye' to quit.\n",
            "You: Bye\n",
            "Chatbot: Bye! Talk to you later 👋\n"
          ]
        }
      ],
      "source": [
        "\n",
        "# Rule Based Chatbot\n",
        "# A simple chatbot using if-else rules\n",
        "\n",
        "print(\"Chatbot: Hi, I'm your assistant. Type 'bye' to quit.\")\n",
        "\n",
        "while True:\n",
        "    user = input(\"You: \")\n",
        "\n",
        "    # greetings\n",
        "    if \"Hi\" in user or \"Hello\" in user:\n",
        "        print(\"Chatbot: Hello there! How can I help you?\")\n",
        "\n",
        "    # asking how am I\n",
        "    elif \"How are you\" in user:\n",
        "        print(\"Chatbot: I'm fine (since I'm a bot 😅). What about you?\")\n",
        "\n",
        "    # if user says they are fine\n",
        "    elif \"I am fine\" in user:\n",
        "        print(\"Chatbot: Good to hear that!\")\n",
        "\n",
        "    # asking my name\n",
        "    elif \"Your name\" in user:\n",
        "        print(\"Chatbot: I'm just a simple chatbot written in Python.\")\n",
        "\n",
        "    # asking for help\n",
        "    elif \"Help\" in user:\n",
        "        print(\"Chatbot: Sure, tell me what you need help with.\")\n",
        "\n",
        "    # question 1 - Python\n",
        "    elif \"python\" in user:\n",
        "        print(\"Chatbot: Python is a high-level, general-purpose and user-friendly programming language.\")\n",
        "\n",
        "    # question 2 - Hard to use\n",
        "    elif \"hard\" in user and \"use\" in user:\n",
        "        print(\"Chatbot: Not at all. Even beginners can do projects using Python.\")\n",
        "\n",
        "    #Thank you condition\n",
        "    elif \"Thank\" in user:\n",
        "        print(\"Your are welcome \")\n",
        "    # goodbye\n",
        "    elif \"Bye\" in user or \"Exit\" in user:\n",
        "        print(\"Chatbot: Bye! Talk to you later 👋\")\n",
        "        break\n",
        "\n",
        "    # default / unknown response\n",
        "    else:\n",
        "        print(\"Chatbot: Hmm... I don't understand that. Try something else.\")# Task 1 - Rule Based Chatbot\n",
        "# A simple chatbot using if-else rules\n",
        "# Works with keyword matching instead of exact full sentences\n",
        "\n",
        "print(\"Chatbot: Hi, I'm your assistant. Type 'bye' to quit.\")\n",
        "\n",
        "while True:\n",
        "    user = input(\"You: \")\n",
        "\n",
        "    # greetings\n",
        "    if \"Hi\" in user or \"Hello\" in user:\n",
        "        print(\"Chatbot: Hello there! How can I help you?\")\n",
        "\n",
        "    # asking how am I\n",
        "    elif \"How are you\" in user:\n",
        "        print(\"Chatbot: I'm fine (since I'm a bot 😅). What about you?\")\n",
        "\n",
        "    # if user says they are fine\n",
        "    elif \"I am fine\" in user:\n",
        "        print(\"Chatbot: Good to hear that!\")\n",
        "\n",
        "    # asking my name\n",
        "    elif \"Your name\" in user:\n",
        "        print(\"Chatbot: I'm just a simple chatbot written in Python.\")\n",
        "\n",
        "    # asking for help\n",
        "    elif \"Help\" in user:\n",
        "        print(\"Chatbot: Sure, tell me what you need help with.\")\n",
        "\n",
        "    # question 1 - Python\n",
        "    elif \"python\" in user:\n",
        "        print(\"Chatbot: Python is a high-level, general-purpose and user-friendly programming language.\")\n",
        "\n",
        "    # question 2 - Hard to use\n",
        "    elif \"hard\" in user and \"use\" in user:\n",
        "        print(\"Chatbot: Not at all. Even beginners can do projects using Python.\")\n",
        "\n",
        "    #Thank you condition\n",
        "    elif \"Thank\" in user:\n",
        "        print(\"Your are welcome \")\n",
        "    # goodbye\n",
        "    elif \"Bye\" in user or \"Exit\" in user:\n",
        "        print(\"Chatbot: Bye! Talk to you later 👋\")\n",
        "        break\n",
        "\n",
        "    # default / unknown response\n",
        "    else:\n",
        "        print(\"Chatbot: Hmm... I don't understand that. Try something else.\")"
      ]
    }
  ]
}
