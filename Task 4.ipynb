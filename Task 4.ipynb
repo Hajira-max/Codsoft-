{
  "nbformat": 4,
  "nbformat_minor": 0,
  "metadata": {
    "colab": {
      "provenance": [],
      "authorship_tag": "ABX9TyNVD+LN2GynNS//Q2yRYWEj",
      "include_colab_link": true
    },
    "kernelspec": {
      "name": "python3",
      "display_name": "Python 3"
    },
    "language_info": {
      "name": "python"
    }
  },
  "cells": [
    {
      "cell_type": "markdown",
      "metadata": {
        "id": "view-in-github",
        "colab_type": "text"
      },
      "source": [
        "<a href=\"https://colab.research.google.com/github/Hajira-max/Codsoft-/blob/main/Untitled3.ipynb\" target=\"_parent\"><img src=\"https://colab.research.google.com/assets/colab-badge.svg\" alt=\"Open In Colab\"/></a>"
      ]
    },
    {
      "cell_type": "code",
      "execution_count": 4,
      "metadata": {
        "id": "T1VWtSBU2kFm",
        "outputId": "97b1ab7c-53e4-424d-c387-3d82a076a275",
        "colab": {
          "base_uri": "https://localhost:8080/"
        }
      },
      "outputs": [
        {
          "output_type": "stream",
          "name": "stdout",
          "text": [
            "👋 Welcome to the Recommendation System!\n",
            "Type 'exit' anytime to quit.\n",
            "\n",
            "Would you like recommendations for 'books' or 'movies'? movies\n",
            "Great! Now tell me the genre (fantasy, mystery, romance, sci-fi): fantasy \n",
            "\n",
            "✨ Here are some movies I recommend in the Fantasy genre:\n",
            "👉 The Lord of the Rings\n",
            "👉 Harry Potter\n",
            "👉 Pan’s Labyrinth\n",
            "\n",
            "---\n",
            "\n",
            "Would you like recommendations for 'books' or 'movies'? books\n",
            "Great! Now tell me the genre (fantasy, mystery, romance, sci-fi): sci-fi\n",
            "\n",
            "✨ Here are some books I recommend in the Sci-Fi genre:\n",
            "👉 Dune by Frank Herbert\n",
            "👉 Ender’s Game by Orson Scott Card\n",
            "👉 Neuromancer by William Gibson\n",
            "\n",
            "---\n",
            "\n",
            "Would you like recommendations for 'books' or 'movies'? quit\n",
            "👋 Goodbye! Hope you enjoy the recommendations!\n"
          ]
        }
      ],
      "source": [
        "\n",
        "# 🎬📚 Continuous Humanized Recommendation\n",
        "\n",
        "# Predefined recommendations for books and movies by genre\n",
        "recommendations = {\n",
        "    \"books\": {\n",
        "        \"fantasy\": [\"Harry Potter by J.K. Rowling\", \"The Hobbit by J.R.R. Tolkien\", \"Percy Jackson by Rick Riordan\"],\n",
        "        \"mystery\": [\"The Da Vinci Code by Dan Brown\", \"Gone Girl by Gillian Flynn\", \"Sherlock Holmes by Arthur Conan Doyle\"],\n",
        "        \"romance\": [\"Pride and Prejudice by Jane Austen\", \"Me Before You by Jojo Moyes\", \"The Notebook by Nicholas Sparks\"],\n",
        "        \"sci-fi\": [\"Dune by Frank Herbert\", \"Ender’s Game by Orson Scott Card\", \"Neuromancer by William Gibson\"]\n",
        "    },\n",
        "    \"movies\": {\n",
        "        \"fantasy\": [\"The Lord of the Rings\", \"Harry Potter\", \"Pan’s Labyrinth\"],\n",
        "        \"mystery\": [\"Shutter Island\", \"Se7en\", \"The Girl with the Dragon Tattoo\"],\n",
        "        \"romance\": [\"Titanic\", \"La La Land\", \"The Fault in Our Stars\"],\n",
        "        \"sci-fi\": [\"Interstellar\", \"Inception\", \"The Matrix\"]\n",
        "    }\n",
        "}\n",
        "\n",
        "def recommend():\n",
        "    print(\"👋 Welcome to the Recommendation System!\")\n",
        "    print(\"Type 'exit' anytime to quit.\\n\")\n",
        "\n",
        "    while True:\n",
        "        choice = input(\"Would you like recommendations for 'books' or 'movies'? \").strip().lower()\n",
        "\n",
        "        # Exit option\n",
        "        if choice in [\"exit\", \"quit\"]:\n",
        "            print(\"👋 Goodbye! Hope you enjoy the recommendations!\")\n",
        "            break\n",
        "\n",
        "        if choice not in recommendations:\n",
        "            print(\"❌ Sorry, I can only recommend 'books' or 'movies'. Try again.\\n\")\n",
        "            continue\n",
        "\n",
        "        genre = input(\"Great! Now tell me the genre (fantasy, mystery, romance, sci-fi): \").strip().lower()\n",
        "\n",
        "        if genre in [\"exit\", \"quit\"]:\n",
        "            print(\"👋 Goodbye! Hope you enjoy the recommendations!\")\n",
        "            break\n",
        "\n",
        "        if genre not in recommendations[choice]:\n",
        "            print(\"❌ Sorry, I don’t have recommendations for that genre. Try again.\\n\")\n",
        "            continue\n",
        "\n",
        "        # Show recommendations\n",
        "        print(f\"\\n✨ Here are some {choice} I recommend in the {genre.title()} genre:\")\n",
        "        for item in recommendations[choice][genre]:\n",
        "            print(f\"👉 {item}\")\n",
        "        print(\"\\n---\\n\")\n",
        "\n",
        "# Run the recommendation system\n",
        "if __name__ == \"__main__\":\n",
        "    recommend()"
      ]
    }
  ]
}
