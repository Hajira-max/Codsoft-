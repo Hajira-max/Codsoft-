{
  "nbformat": 4,
  "nbformat_minor": 0,
  "metadata": {
    "colab": {
      "provenance": [],
      "authorship_tag": "ABX9TyMncz91+59rafn9SshyYWpz",
      "include_colab_link": true
    },
    "kernelspec": {
      "name": "python3",
      "display_name": "Python 3"
    },
    "language_info": {
      "name": "python"
    }
  },
  "cells": [
    {
      "cell_type": "markdown",
      "metadata": {
        "id": "view-in-github",
        "colab_type": "text"
      },
      "source": [
        "<a href=\"https://colab.research.google.com/github/Hajira-max/Codsoft-/blob/main/Untitled3.ipynb\" target=\"_parent\"><img src=\"https://colab.research.google.com/assets/colab-badge.svg\" alt=\"Open In Colab\"/></a>"
      ]
    },
    {
      "cell_type": "code",
      "execution_count": 2,
      "metadata": {
        "id": "T1VWtSBU2kFm",
        "outputId": "8704f816-4939-419e-bcae-4becce85dbbd",
        "colab": {
          "base_uri": "https://localhost:8080/"
        }
      },
      "outputs": [
        {
          "output_type": "stream",
          "name": "stdout",
          "text": [
            "Hey there! 👋 I can suggest books or movies based on your favorite genre.\n",
            "\n",
            "Do you want a book or a movie recommendation? (type 'exit' to quit): book\n",
            "\n",
            "Here are some book genres you can choose from: ['fantasy', 'adventure', 'drama']\n",
            "Which genre do you feel like today? adventure \n",
            "\n",
            "I think you might enjoy these books: ['The Alchemist']\n",
            "\n",
            "Do you want a book or a movie recommendation? (type 'exit' to quit): movie\n",
            "\n",
            "Here are some movie genres you can choose from: ['drama', 'sci-fi', 'action']\n",
            "Which genre do you feel like today? sci-fi\n",
            "\n",
            "I think you might enjoy these movies: ['Interstellar', 'The Matrix', 'Inception']\n",
            "\n",
            "Do you want a book or a movie recommendation? (type 'exit' to quit): exit\n",
            "Alright! Have fun exploring new books and movies! 🎬📚 Bye! 😄\n"
          ]
        }
      ],
      "source": [
        "L\n",
        "# --------------------------------------\n",
        "# Human-Friendly Genre-Based Recommendation System\n",
        "# --------------------------------------\n",
        "\n",
        "import random\n",
        "\n",
        "# A small collection of books and movies with genres\n",
        "items = {\n",
        "    \"The Hobbit\": {\"type\": \"book\", \"genre\": \"fantasy\"},\n",
        "    \"Harry Potter\": {\"type\": \"book\", \"genre\": \"fantasy\"},\n",
        "    \"The Lord of the Rings\": {\"type\": \"book\", \"genre\": \"fantasy\"},\n",
        "    \"Inception\": {\"type\": \"movie\", \"genre\": \"sci-fi\"},\n",
        "    \"Interstellar\": {\"type\": \"movie\", \"genre\": \"sci-fi\"},\n",
        "    \"The Matrix\": {\"type\": \"movie\", \"genre\": \"sci-fi\"},\n",
        "    \"Avengers: Endgame\": {\"type\": \"movie\", \"genre\": \"action\"},\n",
        "    \"The Alchemist\": {\"type\": \"book\", \"genre\": \"adventure\"},\n",
        "    \"To Kill a Mockingbird\": {\"type\": \"book\", \"genre\": \"drama\"},\n",
        "    \"Titanic\": {\"type\": \"movie\", \"genre\": \"drama\"}\n",
        "}\n",
        "\n",
        "def recommend_by_genre(item_type, genre, top_n=3):\n",
        "    \"\"\"Pick a few items from the chosen type and genre.\"\"\"\n",
        "    # Filter items matching type and genre\n",
        "    filtered_items = [name for name, info in items.items()\n",
        "                      if info[\"type\"] == item_type and info[\"genre\"] == genre]\n",
        "\n",
        "    if not filtered_items:\n",
        "        return f\"Oops! I don’t have any {item_type}s in the '{genre}' genre. 😅\"\n",
        "\n",
        "    # Pick up to top_n randomly\n",
        "    recommendations = random.sample(filtered_items, min(top_n, len(filtered_items)))\n",
        "    return recommendations\n",
        "\n",
        "def chat_with_user():\n",
        "    \"\"\"Interactive chat for recommendations.\"\"\"\n",
        "    print(\"Hey there! 👋 I can suggest books or movies based on your favorite genre.\")\n",
        "\n",
        "    while True:\n",
        "        choice = input(\"\\nDo you want a book or a movie recommendation? (type 'exit' to quit): \").strip().lower()\n",
        "\n",
        "        if choice == \"exit\":\n",
        "            print(\"Alright! Have fun exploring new books and movies! 🎬📚 Bye! 😄\")\n",
        "            break\n",
        "        elif choice not in [\"book\", \"movie\"]:\n",
        "            print(\"Hmm, I didn’t quite get that. Please type 'book' or 'movie'.\")\n",
        "            continue\n",
        "\n",
        "        # Show available genres\n",
        "        genres = list({info[\"genre\"] for info in items.values() if info[\"type\"] == choice})\n",
        "        print(f\"\\nHere are some {choice} genres you can choose from: {genres}\")\n",
        "\n",
        "        genre_choice = input(f\"Which genre do you feel like today? \").strip().lower()\n",
        "        recommendations = recommend_by_genre(choice, genre_choice)\n",
        "\n",
        "        print(f\"\\nI think you might enjoy these {choice}s: {recommendations}\")\n",
        "\n",
        "# Start chatting\n",
        "chat_with_user()"
      ]
    }
  ]
}